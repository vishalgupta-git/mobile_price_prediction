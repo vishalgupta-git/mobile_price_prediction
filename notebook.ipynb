{
 "cells": [
  {
   "cell_type": "code",
   "execution_count": null,
   "id": "1b4c9932",
   "metadata": {},
   "outputs": [],
   "source": [
    "import numpy as np\n",
    "import pandas as pd\n",
    "import matplotlib.pyplot as plt\n",
    "import seaborn as sns\n",
    "import kaggle\n",
    "\n",
    "from sklearn.model_selection import train_test_split\n",
    "from sklearn.preprocessing import StandardScaler\n",
    "from sklearn.decomposition import PCA\n",
    "\n",
    "from sklearn.linear_model import LinearRegression, Lasso,Ridge,ElasticNet\n",
    "from sklearn.ensemble import RandomForestRegressor\n",
    "from sklearn.model_selection import GridSearchCV\n",
    "\n",
    "from sklearn.metrics import mean_squared_error, r2_score, mean_absolute_error\n",
    "\n",
    "from statsmodels.stats.outliers_influence import variance_inflation_factor\n",
    "\n",
    "\n",
    "import warnings\n",
    "warnings.filterwarnings('ignore')\n",
    "\n",
    "\n",
    "import joblib"
   ]
  },
  {
   "cell_type": "code",
   "execution_count": null,
   "id": "d6a25caf",
   "metadata": {},
   "outputs": [],
   "source": [
    "kaggle.api.authenticate()\n",
    "kaggle.api.dataset_download_files('mohannapd/mobile-price-prediction',unzip=True,path=\"./datasets\")"
   ]
  },
  {
   "cell_type": "code",
   "execution_count": null,
   "id": "ac6ffda1",
   "metadata": {},
   "outputs": [],
   "source": [
    "data = pd.read_csv('datasets/Cellphone.csv')\n",
    "data.head(3) # Display first 3 rows of the dataset"
   ]
  },
  {
   "cell_type": "code",
   "execution_count": null,
   "id": "e5941231",
   "metadata": {},
   "outputs": [],
   "source": [
    "df = data.copy() # Create a copy of the dataset"
   ]
  },
  {
   "cell_type": "code",
   "execution_count": null,
   "id": "effe83bb",
   "metadata": {},
   "outputs": [],
   "source": [
    "df.columns # Display the columns of the dataset"
   ]
  },
  {
   "cell_type": "code",
   "execution_count": null,
   "id": "c73b39a8",
   "metadata": {},
   "outputs": [],
   "source": [
    "df.drop(columns=['Product_id'], inplace=True) # Drop the 'Product_id' column as it is not needed for analysis"
   ]
  },
  {
   "cell_type": "code",
   "execution_count": null,
   "id": "ffeb6b55",
   "metadata": {},
   "outputs": [],
   "source": [
    "df.describe().T # Display the summary statistics of the dataset"
   ]
  },
  {
   "cell_type": "code",
   "execution_count": null,
   "id": "4e694325",
   "metadata": {},
   "outputs": [],
   "source": [
    "df.info() # Display information about the dataset"
   ]
  },
  {
   "cell_type": "code",
   "execution_count": null,
   "id": "6d310b93",
   "metadata": {},
   "outputs": [],
   "source": [
    "df.duplicated().sum() # Check for duplicate rows in the dataset"
   ]
  },
  {
   "cell_type": "code",
   "execution_count": null,
   "id": "1c1a9cec",
   "metadata": {},
   "outputs": [],
   "source": [
    "num_col = len(df.columns)\n",
    "cols_per_row = 3\n",
    "rows = int(np.ceil(num_col / cols_per_row))\n",
    "\n",
    "fig,axes = plt.subplots(nrows=rows, ncols=cols_per_row,figsize=(15,2*rows))\n",
    "\n",
    "axes= axes.flatten()\n",
    "\n",
    "for i,col in enumerate(df.columns):\n",
    "    sns.boxplot(df[col],ax=axes[i],orient='h', palette='Set1')\n",
    "    axes[i].set_title(col, fontsize=20)\n",
    "\n",
    "for j in range(i+1, len(axes)):\n",
    "    axes[j].axis('off')  # Hide unused subplots\n",
    "\n",
    "plt.tight_layout()\n",
    "plt.show()"
   ]
  },
  {
   "cell_type": "code",
   "execution_count": null,
   "id": "179d2c01",
   "metadata": {},
   "outputs": [],
   "source": [
    "num_col = len(df.columns)\n",
    "cols_per_row = 3\n",
    "rows = int(np.ceil(num_col / cols_per_row))\n",
    "\n",
    "fig,axes = plt.subplots(nrows=rows, ncols=cols_per_row,figsize=(15,2*rows))\n",
    "\n",
    "axes= axes.flatten()\n",
    "\n",
    "for i,col in enumerate(df.columns):\n",
    "    sns.boxplot(df[col],ax=axes[i],orient='h', palette='Set3')\n",
    "    axes[i].set_title(col, fontsize=20)\n",
    "\n",
    "for j in range(i+1, len(axes)):\n",
    "    axes[j].axis('off')  # Hide unused subplots\n",
    "\n",
    "plt.tight_layout()\n",
    "plt.show()"
   ]
  },
  {
   "cell_type": "code",
   "execution_count": null,
   "id": "5421071f",
   "metadata": {},
   "outputs": [],
   "source": [
    "skewed_cols=[]\n",
    "for col in df.columns:\n",
    "    if abs(df[col].skew()>1):\n",
    "        skewed_cols.append(col)\n",
    "print(\"Skewed Columns:\", skewed_cols)"
   ]
  },
  {
   "cell_type": "code",
   "execution_count": null,
   "id": "92cbcc8e",
   "metadata": {},
   "outputs": [],
   "source": [
    "num_col = len(skewed_cols)\n",
    "cols_per_row = 3\n",
    "rows = int(np.ceil(num_col / cols_per_row))\n",
    "fig,axes = plt.subplots(nrows=rows, ncols=cols_per_row,figsize=(20,5*rows))\n",
    "axes= axes.flatten()\n",
    "\n",
    "for i,col in enumerate(skewed_cols):\n",
    "    sns.histplot(df[col],ax=axes[i], color='red',kde=1)\n",
    "    axes[i].set_title(col, fontsize=20)\n",
    "\n",
    "for j in range(i+1, len(axes)):\n",
    "    axes[j].axis('off')\n",
    "\n",
    "plt.tight_layout()\n",
    "plt.show()"
   ]
  },
  {
   "cell_type": "code",
   "execution_count": null,
   "id": "c172ad15",
   "metadata": {},
   "outputs": [],
   "source": [
    "#apply log transformation to skewed columns\n",
    "for col in skewed_cols:\n",
    "    df[col] = np.log1p(df[col])  # log1p is used to handle zero values safely"
   ]
  },
  {
   "cell_type": "code",
   "execution_count": null,
   "id": "d09d2838",
   "metadata": {},
   "outputs": [],
   "source": [
    "num_col = len(skewed_cols)\n",
    "cols_per_row = 3\n",
    "rows = int(np.ceil(num_col / cols_per_row))\n",
    "fig,axes = plt.subplots(nrows=rows, ncols=cols_per_row,figsize=(20,5*rows))\n",
    "axes= axes.flatten()\n",
    "\n",
    "for i,col in enumerate(skewed_cols):\n",
    "    sns.histplot(df[col],ax=axes[i], color='lightgreen',kde=1)\n",
    "    axes[i].set_title(col, fontsize=20)\n",
    "\n",
    "for j in range(i+1, len(axes)):\n",
    "    axes[j].axis('off')\n",
    "\n",
    "plt.tight_layout()\n",
    "plt.show()"
   ]
  },
  {
   "cell_type": "code",
   "execution_count": null,
   "id": "cadb81ac",
   "metadata": {},
   "outputs": [],
   "source": [
    "features = df.drop(columns=['Price'])\n",
    "target = df['Price']\n",
    "\n",
    "num_col = len(features.columns)\n",
    "cols_per_row = 3\n",
    "rows = int(np.ceil(num_col / cols_per_row))\n",
    "fig,axes = plt.subplots(nrows=rows, ncols=cols_per_row,figsize=(20,3*rows))\n",
    "axes= axes.flatten()\n",
    "\n",
    "for i,col in enumerate(features.columns):\n",
    "    sns.regplot(data=df,x=col,y='Price',ax=axes[i], line_kws={'color': 'red'} )\n",
    "    axes[i].set_title(col, fontsize=20)\n",
    "\n",
    "for j in range(i+1, len(axes)):\n",
    "    axes[j].axis('off')\n",
    "\n",
    "plt.tight_layout()\n",
    "plt.show()"
   ]
  },
  {
   "cell_type": "code",
   "execution_count": null,
   "id": "d4c9be5e",
   "metadata": {},
   "outputs": [],
   "source": [
    "plt.figure(figsize=(10, 6))\n",
    "sns.heatmap(df.corr(), annot=True, cmap='coolwarm', linewidths=0.5)\n",
    "plt.title('Correlation Heatmap', fontsize=20)\n",
    "plt.tight_layout()\n",
    "plt.show()"
   ]
  },
  {
   "cell_type": "code",
   "execution_count": null,
   "id": "0855976b",
   "metadata": {},
   "outputs": [],
   "source": [
    "def check_outliner(col):\n",
    "    Q1 = df[col].quantile(0.25)\n",
    "    Q3 = df[col].quantile(0.75)\n",
    "    IQR = Q3 - Q1\n",
    "    lower_bound = Q1 - 1.5 * IQR\n",
    "    upper_bound = Q3 + 1.5 * IQR    \n",
    "    outliers = df[(df[col] < lower_bound) | (df[col] > upper_bound)]\n",
    "    return outliers"
   ]
  },
  {
   "cell_type": "code",
   "execution_count": null,
   "id": "91b0e984",
   "metadata": {},
   "outputs": [],
   "source": [
    "col_with_outliner = [col for col in df.columns if not check_outliner(col).empty]\n",
    "num_col = len(col_with_outliner)\n",
    "cols_per_row = 3\n",
    "rows = int(np.ceil(num_col / cols_per_row))\n",
    "\n",
    "fig,axes = plt.subplots(nrows=rows, ncols=cols_per_row,figsize=(15,2*rows))\n",
    "\n",
    "axes= axes.flatten()\n",
    "\n",
    "for i,col in enumerate(col_with_outliner):\n",
    "    if not check_outliner(col).empty:\n",
    "        sns.boxplot(df[col],ax=axes[i],orient='h', palette='Set3')\n",
    "        axes[i].set_title(col, fontsize=20)\n",
    "\n",
    "for j in range(i+1, len(axes)):\n",
    "    axes[j].axis('off')  # Hide unused subplots\n",
    "\n",
    "plt.tight_layout()\n",
    "plt.show()"
   ]
  },
  {
   "cell_type": "markdown",
   "id": "d5b7b8bf",
   "metadata": {},
   "source": [
    "# For now, let's evaluate the models' performance including outliers"
   ]
  },
  {
   "cell_type": "code",
   "execution_count": null,
   "id": "f7e72bc0",
   "metadata": {},
   "outputs": [],
   "source": [
    "# 1. Select numeric features only\n",
    "X = df.select_dtypes(include=['number'])\n",
    "\n",
    "# 2. Create a DataFrame to store VIF values\n",
    "vif_data = pd.DataFrame()\n",
    "vif_data[\"feature\"] = X.columns\n",
    "\n",
    "# 3. Calculate VIF for each feature\n",
    "vif_data[\"VIF\"] = [variance_inflation_factor(X.values, i) for i in range(X.shape[1])]\n",
    "\n",
    "# 4. Sort and display\n",
    "vif_data = vif_data.sort_values(by=\"VIF\", ascending=False)\n",
    "print(vif_data)\n"
   ]
  },
  {
   "cell_type": "code",
   "execution_count": null,
   "id": "88ea8362",
   "metadata": {},
   "outputs": [],
   "source": [
    "# Assuming df is your DataFrame with features only (exclude target)\n",
    "X = df.select_dtypes(include=[float, int])\n",
    "\n",
    "# Standardize features before PCA\n",
    "scaler = StandardScaler()\n",
    "X_scaled = scaler.fit_transform(X)\n",
    "\n",
    "# Apply PCA (choose number of components, e.g., enough to explain 95% variance)\n",
    "pca = PCA(n_components=0.95)\n",
    "X_pca = pca.fit_transform(X_scaled)\n",
    "\n",
    "print(\"Original number of features:\", X.shape[1])\n",
    "print(\"Reduced number of components:\", X_pca.shape[1])\n",
    "\n",
    "# Explained variance ratio of each component\n",
    "print(\"Explained variance ratio:\", pca.explained_variance_ratio_)\n",
    "\n",
    "# If you want to convert PCA components back to a DataFrame\n",
    "pca_df = pd.DataFrame(X_pca, columns=[f'PC{i+1}' for i in range(X_pca.shape[1])])\n"
   ]
  },
  {
   "cell_type": "markdown",
   "id": "ded00203",
   "metadata": {},
   "source": [
    "# Model Training and Evaluation"
   ]
  },
  {
   "cell_type": "code",
   "execution_count": null,
   "id": "578ac8ee",
   "metadata": {},
   "outputs": [],
   "source": [
    "# Split the dataset into features and target variable\n",
    "x= df.drop(columns=['Price'])\n",
    "y= df['Price']"
   ]
  },
  {
   "cell_type": "code",
   "execution_count": null,
   "id": "37c31bef",
   "metadata": {},
   "outputs": [],
   "source": [
    "#Train-test split\n",
    "x_train, x_test, y_train, y_test = train_test_split(x, y, train_size=0.9, random_state=7)\n",
    "\n",
    "print(\"Training set size:\", x_train.shape[0])\n",
    "print(\"Test set size:\", x_test.shape[0])"
   ]
  },
  {
   "cell_type": "code",
   "execution_count": null,
   "id": "8cddf3e2",
   "metadata": {},
   "outputs": [],
   "source": [
    "#Standard Scaler\n",
    "scaler = StandardScaler()\n",
    "x_train_scaled = scaler.fit_transform(x_train)\n",
    "x_test_scaled = scaler.transform(x_test)\n"
   ]
  },
  {
   "cell_type": "markdown",
   "id": "154c31eb",
   "metadata": {},
   "source": [
    "# Models "
   ]
  },
  {
   "cell_type": "code",
   "execution_count": null,
   "id": "b8869c43",
   "metadata": {},
   "outputs": [],
   "source": [
    "# Define models in a dictionary\n",
    "models = {\n",
    "    'Linear Regression': LinearRegression(),\n",
    "    'Ridge Regression': Ridge(),\n",
    "    'Lasso Regression': Lasso(),\n",
    "    'ElasticNet Regression': ElasticNet()\n",
    "}\n",
    "\n",
    "# Empty list to collect results\n",
    "results = []\n",
    "\n",
    "# Fit and evaluate each model\n",
    "for name, model in models.items():\n",
    "    model.fit(x_train_scaled, y_train)\n",
    "    \n",
    "    # Predictions\n",
    "    y_pred_train = model.predict(x_train_scaled)\n",
    "    y_pred_test = model.predict(x_test_scaled)\n",
    "    \n",
    "    # Correct metrics\n",
    "    train_mae = mean_absolute_error(y_train, y_pred_train)\n",
    "    train_r2 = r2_score(y_train, y_pred_train)\n",
    "    \n",
    "    test_mae = mean_absolute_error(y_test, y_pred_test)\n",
    "    test_r2 = r2_score(y_test, y_pred_test)\n",
    "    \n",
    "    # Append results\n",
    "    results.append({\n",
    "        'Model': name,\n",
    "        'Train MAE': train_mae,\n",
    "        'Train R2': train_r2,\n",
    "        'Test MAE': test_mae,\n",
    "        'Test R2': test_r2\n",
    "    })\n",
    "\n",
    "# Create a summary DataFrame\n",
    "results_df = pd.DataFrame(results)\n",
    "\n",
    "# Sort by Test R2 (descending)\n",
    "results_df = results_df.sort_values(by='Test R2', ascending=False)\n",
    "\n",
    "# Display\n",
    "print(results_df)\n"
   ]
  },
  {
   "cell_type": "markdown",
   "id": "446670be",
   "metadata": {},
   "source": [
    "# Based Upon the results, we can see that:\n",
    "# - The Linear Regression model has the best performance on the test set with the lowest MSE and highest R2 score.\n",
    "# - The Ridge Regression model performs well, but its MSE is slightly higher than that of the Linear Regression model.\n",
    "# - The Lasso Regression model has a higher MSE compared to both Linear and Ridge Regression models, indicating that it may not be the best choice for this dataset.\n",
    "# - The ElasticNet model also shows a higher MSE compared to Linear and Ridge Regression, indicating that it may not be the best choice for this dataset as well.   \n",
    "\n"
   ]
  },
  {
   "cell_type": "code",
   "execution_count": null,
   "id": "a60f839e",
   "metadata": {},
   "outputs": [],
   "source": [
    "random_model = RandomForestRegressor()\n",
    "random_model.fit(x_train, y_train)\n",
    "\n",
    "# Predictions\n",
    "rf_y_pred_train = random_model.predict(x_train)\n",
    "rf_y_pred_test = random_model.predict(x_test)\n",
    "\n",
    "# Train Metrics\n",
    "rf_train_mae = mean_absolute_error(y_train, rf_y_pred_train)\n",
    "rf_train_r2 = r2_score(y_train, rf_y_pred_train)\n",
    "\n",
    "print(\"Random Forest Train MAE:\", rf_train_mae)\n",
    "print(\"Random Forest Train R2:\", rf_train_r2)\n",
    "\n",
    "# Test Metrics\n",
    "rf_test_mae = mean_absolute_error(y_test, rf_y_pred_test)\n",
    "rf_test_r2 = r2_score(y_test, rf_y_pred_test)\n",
    "\n",
    "print(\"Random Forest Test MAE:\", rf_test_mae)\n",
    "print(\"Random Forest Test R2:\", rf_test_r2)\n"
   ]
  },
  {
   "cell_type": "code",
   "execution_count": null,
   "id": "c0620309",
   "metadata": {},
   "outputs": [],
   "source": [
    "param_grid = {\n",
    "    'n_estimators': [100, 200, 300],\n",
    "    'max_depth': [None, 10, 20, 30],\n",
    "    'min_samples_split': [2, 5, 10],\n",
    "    'min_samples_leaf': [1, 2, 4]\n",
    "}\n",
    "grid_search = GridSearchCV(\n",
    "    estimator=RandomForestRegressor(random_state=42),\n",
    "    param_grid=param_grid,\n",
    "    cv=5,\n",
    "    scoring='r2',         \n",
    "    verbose=2,\n",
    "    n_jobs=-1             \n",
    ")\n",
    "grid_search.fit(x_train, y_train)\n",
    "print(\"Best Parameters:\", grid_search.best_params_)\n",
    "print(\"Best Score (CV R2):\", grid_search.best_score_)\n",
    "best_rf = grid_search.best_estimator_\n"
   ]
  },
  {
   "cell_type": "code",
   "execution_count": null,
   "id": "5094f1ac",
   "metadata": {},
   "outputs": [],
   "source": [
    "# Predict on training data\n",
    "y_pred_train = best_rf.predict(x_train)\n",
    "\n",
    "# Calculate training MAE and R2\n",
    "train_mae = mean_absolute_error(y_train, y_pred_train)\n",
    "train_r2 = r2_score(y_train, y_pred_train)\n",
    "\n",
    "# Predict on test data\n",
    "y_pred_test = best_rf.predict(x_test)\n",
    "\n",
    "# Calculate test MAE and R2\n",
    "test_mae = mean_absolute_error(y_test, y_pred_test)\n",
    "test_r2 = r2_score(y_test, y_pred_test)\n",
    "\n",
    "# Print results\n",
    "print(\"Best RF Train MAE:\", train_mae)\n",
    "print(\"Best RF Train R2:\", train_r2)\n",
    "print(\"Best RF Test MAE:\", test_mae)\n",
    "print(\"Best RF Test R2:\", test_r2)\n"
   ]
  },
  {
   "cell_type": "markdown",
   "id": "4579c900",
   "metadata": {},
   "source": [
    "This suggests your Random Forest model is performing really well without obvious overfitting. The test performance is very close to training performance, which is a good sign."
   ]
  },
  {
   "cell_type": "code",
   "execution_count": null,
   "id": "8b0f6345",
   "metadata": {},
   "outputs": [],
   "source": [
    "# Predict on test data\n",
    "y_pred_test = best_rf.predict(x_test)\n",
    "\n",
    "# Calculate residuals\n",
    "residuals = y_test - y_pred_test\n",
    "\n",
    "# Plot residuals vs predicted values\n",
    "plt.figure(figsize=(10,6))\n",
    "plt.scatter(y_pred_test, residuals, alpha=0.6)\n",
    "plt.axhline(y=0, color='red', linestyle='--')\n",
    "plt.xlabel('Predicted Values')\n",
    "plt.ylabel('Residuals (Actual - Predicted)')\n",
    "plt.title('Residual Plot for Random Forest Regressor')\n",
    "plt.show()\n"
   ]
  },
  {
   "cell_type": "code",
   "execution_count": null,
   "id": "68319230",
   "metadata": {},
   "outputs": [],
   "source": [
    "sns.kdeplot(residuals)\n",
    "plt.show()"
   ]
  },
  {
   "cell_type": "code",
   "execution_count": null,
   "id": "bf53e840",
   "metadata": {},
   "outputs": [],
   "source": [
    "importances = best_rf.feature_importances_\n",
    "feat_names = x.columns\n",
    "\n",
    "plt.figure(figsize=(10, 6))\n",
    "sns.barplot(x=importances, y=feat_names)\n",
    "plt.title(\"Feature Importances - Random Forest\")\n",
    "plt.tight_layout()\n",
    "plt.show()"
   ]
  },
  {
   "cell_type": "code",
   "execution_count": null,
   "id": "b8f16a1c",
   "metadata": {},
   "outputs": [],
   "source": [
    "#Exporting best Model \n",
    "joblib.dump(best_rf, 'best_rf.pkl')\n",
    "joblib.dump(scaler, 'scaler.pkl')"
   ]
  }
 ],
 "metadata": {
  "kernelspec": {
   "display_name": "myenv",
   "language": "python",
   "name": "python3"
  },
  "language_info": {
   "codemirror_mode": {
    "name": "ipython",
    "version": 3
   },
   "file_extension": ".py",
   "mimetype": "text/x-python",
   "name": "python",
   "nbconvert_exporter": "python",
   "pygments_lexer": "ipython3",
   "version": "3.12.11"
  }
 },
 "nbformat": 4,
 "nbformat_minor": 5
}
